{
 "cells": [
  {
   "cell_type": "markdown",
   "id": "ef289877",
   "metadata": {},
   "source": [
    " <font color=\"red\"> ~ ~ ~ OM Shri Ganeshaaya Namaha ~ ~ ~ </font>"
   ]
  },
  {
   "cell_type": "markdown",
   "id": "42dc4b4d",
   "metadata": {},
   "source": [
    "<hr/>"
   ]
  },
  {
   "cell_type": "markdown",
   "id": "acbfea35",
   "metadata": {},
   "source": [
    "#### Q11)  \n",
    "Suppose we want to estimate the average weight of an adult male in    Mexico. We draw a random sample of 2,000 men from a population of 3,000,000 men and weigh them. We find that the average person in our sample weighs 200 pounds, and the standard deviation of the sample is 30 pounds. Calculate 94%,98%,96% confidence interval?"
   ]
  },
  {
   "cell_type": "code",
   "execution_count": 1,
   "id": "1398965f",
   "metadata": {},
   "outputs": [
    {
     "name": "stdout",
     "output_type": "stream",
     "text": [
      "Lower Bound: 143.57619175546247; Upper Bound: 256.42380824453755\n",
      "Z- = -1.880793608151251; Z+ = 1.8807936081512509\n"
     ]
    }
   ],
   "source": [
    "from scipy.stats import norm, t\n",
    "import numpy as np\n",
    "\n",
    "n = 2000\n",
    "x_bar = 200\n",
    "s = 30\n",
    "\n",
    "nppf_lower = norm.ppf(0.03, x_bar, s)\n",
    "nppf_upper = norm.ppf(0.97, x_bar, s)\n",
    "print(\"Lower Bound: {}; Upper Bound: {}\".format(nppf_lower, nppf_upper))\n",
    "\n",
    "# If population σ were given ...\n",
    "# ... and significance were 94% ...\n",
    "print(\"Z- = {}; Z+ = {}\".format(norm.ppf(0.03), norm.ppf(0.97)))"
   ]
  },
  {
   "cell_type": "code",
   "execution_count": 2,
   "id": "0bbaf0b6",
   "metadata": {},
   "outputs": [
    {
     "name": "stdout",
     "output_type": "stream",
     "text": [
      "t- = -2.3282147761069725; t+ = 2.328214776106972\n"
     ]
    }
   ],
   "source": [
    "# from scipy.stats import t\n",
    "\n",
    "# tppf_lower = t.ppf(0.03, (n-1), x_bar, s)\n",
    "# tppf_upper = t.ppf(0.97, (n-1), x_bar, s)\n",
    "# print(\"Lower Bound: {}; Upper Bound: {}\".format(tppf_lower, tppf_upper))\n",
    "\n",
    "# If population σ is not given ...\n",
    "# ... and significance is 98%, then for n = 2000\n",
    "\n",
    "print(\"t- = {}; t+ = {}\".format(t.ppf(0.01,(n-1)), t.ppf(0.99,(n-1))))"
   ]
  },
  {
   "cell_type": "code",
   "execution_count": 3,
   "id": "879b2d9f",
   "metadata": {},
   "outputs": [
    {
     "data": {
      "text/plain": [
       "(198.4381860483216, 201.5618139516784)"
      ]
     },
     "execution_count": 3,
     "metadata": {},
     "output_type": "execute_result"
    }
   ],
   "source": [
    "# from scipy.stats import t\n",
    "t.interval(confidence = 0.98, df=1999, loc=200, scale=30/np.sqrt(2000))"
   ]
  },
  {
   "cell_type": "markdown",
   "id": "da3f4c5f",
   "metadata": {},
   "source": [
    "<hr/>"
   ]
  },
  {
   "cell_type": "markdown",
   "id": "500f9824",
   "metadata": {},
   "source": [
    "#### Q12)  \n",
    "Below are the scores obtained by a student in tests \n",
    "    \n",
    "    [34,36,36,38,38,39,39,40,40,41,41,41,41,42,42,45,49,56]\n",
    "\n",
    "    1) Find mean, median, variance, standard deviation.\n",
    "    2) What can we say about the student marks? \n"
   ]
  },
  {
   "cell_type": "code",
   "execution_count": 4,
   "id": "4addecfd",
   "metadata": {},
   "outputs": [
    {
     "data": {
      "text/plain": [
       "[34, 36, 36, 38, 38, 39, 39, 40, 40, 41, 41, 41, 41, 42, 42, 45, 49, 56]"
      ]
     },
     "execution_count": 4,
     "metadata": {},
     "output_type": "execute_result"
    }
   ],
   "source": [
    "import pandas as pd\n",
    "\n",
    "scores = [34,36,36,38,38,39,39,40,40,41,41,41,41,42,42,45,49,56]\n",
    "sorted(scores)"
   ]
  },
  {
   "cell_type": "code",
   "execution_count": 5,
   "id": "ffdc2317",
   "metadata": {},
   "outputs": [
    {
     "data": {
      "text/html": [
       "<div>\n",
       "<style scoped>\n",
       "    .dataframe tbody tr th:only-of-type {\n",
       "        vertical-align: middle;\n",
       "    }\n",
       "\n",
       "    .dataframe tbody tr th {\n",
       "        vertical-align: top;\n",
       "    }\n",
       "\n",
       "    .dataframe thead th {\n",
       "        text-align: right;\n",
       "    }\n",
       "</style>\n",
       "<table border=\"1\" class=\"dataframe\">\n",
       "  <thead>\n",
       "    <tr style=\"text-align: right;\">\n",
       "      <th></th>\n",
       "      <th>0</th>\n",
       "    </tr>\n",
       "  </thead>\n",
       "  <tbody>\n",
       "    <tr>\n",
       "      <th>count</th>\n",
       "      <td>18.000000</td>\n",
       "    </tr>\n",
       "    <tr>\n",
       "      <th>mean</th>\n",
       "      <td>41.000000</td>\n",
       "    </tr>\n",
       "    <tr>\n",
       "      <th>std</th>\n",
       "      <td>5.052664</td>\n",
       "    </tr>\n",
       "    <tr>\n",
       "      <th>min</th>\n",
       "      <td>34.000000</td>\n",
       "    </tr>\n",
       "    <tr>\n",
       "      <th>25%</th>\n",
       "      <td>38.250000</td>\n",
       "    </tr>\n",
       "    <tr>\n",
       "      <th>50%</th>\n",
       "      <td>40.500000</td>\n",
       "    </tr>\n",
       "    <tr>\n",
       "      <th>75%</th>\n",
       "      <td>41.750000</td>\n",
       "    </tr>\n",
       "    <tr>\n",
       "      <th>max</th>\n",
       "      <td>56.000000</td>\n",
       "    </tr>\n",
       "  </tbody>\n",
       "</table>\n",
       "</div>"
      ],
      "text/plain": [
       "               0\n",
       "count  18.000000\n",
       "mean   41.000000\n",
       "std     5.052664\n",
       "min    34.000000\n",
       "25%    38.250000\n",
       "50%    40.500000\n",
       "75%    41.750000\n",
       "max    56.000000"
      ]
     },
     "execution_count": 5,
     "metadata": {},
     "output_type": "execute_result"
    }
   ],
   "source": [
    "data = pd.DataFrame(data=scores)\n",
    "data.describe()"
   ]
  },
  {
   "cell_type": "code",
   "execution_count": 6,
   "id": "41758253",
   "metadata": {},
   "outputs": [
    {
     "data": {
      "text/plain": [
       "4.910306620885412"
      ]
     },
     "execution_count": 6,
     "metadata": {},
     "output_type": "execute_result"
    }
   ],
   "source": [
    "# intermediate rough calculations\n",
    "\n",
    "np.sum(np.square(scores-np.mean(scores)))\n",
    "scores-np.mean(scores)\n",
    "np.square(scores-np.mean(scores))\n",
    "434/18\n",
    "np.var(scores)\n",
    "np.sqrt(np.var(scores))\n",
    "np.std(scores)"
   ]
  },
  {
   "cell_type": "markdown",
   "id": "3d75c8b6",
   "metadata": {},
   "source": [
    "<hr/>"
   ]
  },
  {
   "cell_type": "markdown",
   "id": "09c19bfa",
   "metadata": {},
   "source": [
    "#### Q 22) \n",
    "Calculate the Z scores of 90% confidence interval,94% confidence interval, 60% confidence interval"
   ]
  },
  {
   "cell_type": "code",
   "execution_count": 7,
   "id": "937bab7f",
   "metadata": {},
   "outputs": [
    {
     "name": "stdout",
     "output_type": "stream",
     "text": [
      "z60=0.2533471031357997, z90=1.2815515655446004, z94=1.5547735945968535\n"
     ]
    }
   ],
   "source": [
    "from scipy.stats import norm\n",
    "\n",
    "z60 = norm.ppf(0.6)\n",
    "z90 = norm.ppf(0.9)\n",
    "z94 = norm.ppf(0.94)\n",
    "\n",
    "print(\"z60={}, z90={}, z94={}\".format(z60,z90,z94))"
   ]
  },
  {
   "cell_type": "markdown",
   "id": "fc82ae69",
   "metadata": {},
   "source": [
    "<hr/>"
   ]
  },
  {
   "cell_type": "markdown",
   "id": "69f1f89c",
   "metadata": {},
   "source": [
    "#### Q 23) \n",
    "Calculate the t scores of 95% confidence interval, 96% confidence interval, 99% confidence interval for sample size of 25"
   ]
  },
  {
   "cell_type": "code",
   "execution_count": 8,
   "id": "eca8291c",
   "metadata": {},
   "outputs": [
    {
     "name": "stdout",
     "output_type": "stream",
     "text": [
      "t95=1.7108820799094275, t96=1.8280511719596342, t99=2.4921594731575762\n"
     ]
    }
   ],
   "source": [
    "from scipy.stats import t\n",
    "\n",
    "t95 = t.ppf(0.95,24)\n",
    "t96 = t.ppf(0.96,24)\n",
    "t99 = t.ppf(0.99,24)\n",
    "\n",
    "print(\"t95={}, t96={}, t99={}\".format(t95,t96,t99))"
   ]
  },
  {
   "cell_type": "markdown",
   "id": "cc1f36ce",
   "metadata": {},
   "source": [
    "<hr/>"
   ]
  },
  {
   "cell_type": "markdown",
   "id": "543222a1",
   "metadata": {},
   "source": [
    "#### Q 20) \n",
    "Calculate probability from the given dataset for the below cases\n",
    "\n",
    "    Data _set: Cars.csv\n",
    "    Calculate the probability of MPG of Cars for the below cases.\n",
    "    MPG <- Cars$MPG\n",
    "    a. P(MPG>38)\n",
    "    b. P(MPG<40)\n",
    "    c. P(20<MPG<50)\n"
   ]
  },
  {
   "cell_type": "code",
   "execution_count": 9,
   "id": "ef981a5f",
   "metadata": {},
   "outputs": [
    {
     "data": {
      "text/plain": [
       "0.9009780258719399"
      ]
     },
     "execution_count": 9,
     "metadata": {},
     "output_type": "execute_result"
    }
   ],
   "source": [
    "from scipy.stats import norm\n",
    "\n",
    "mpg = [53.7,50.01,50.01,45.7,50.5,45.7,50.01,46.72,46.72,42.3,44.65,39.35,39.35,44.65,45.73,44.65,42.79,39.35,\n",
    "       42.79,38.9,38.41,42.83,38.31,40.47,38.31,38.41,38.41,38.41,43.47,35.4,39.43,39.43,36.29,36.29,39.53,37.96,\n",
    "       37.96,34.07,34.07,31.01,35.15,35.15,34.07,35.15,35.64,34.56,34.56,35.05,31.01,29.63,29.63,29.63,29.63,24.49,\n",
    "       26.85,27.86,31.11,29.63,30.13,28.86,27.35,24.61,23.52,23.52,23.61,40.05,23.1,23.1,23.1,21.27,19.68,23.2,23.2,\n",
    "       19.09,19.09,18.76,36.9,19.2,34,19.83,12.1]\n",
    "\n",
    "# 1-norm.cdf(38,np.mean(mpg),np.std(mpg))\n",
    "# norm.cdf(40,np.mean(mpg),np.std(mpg))\n",
    "\n",
    "area_A = norm.cdf(20, np.mean(mpg), np.std(mpg))\n",
    "area_B = norm.cdf(50, np.mean(mpg), np.std(mpg))\n",
    "\n",
    "area_B - area_A"
   ]
  },
  {
   "cell_type": "markdown",
   "id": "17bf1c98",
   "metadata": {},
   "source": [
    "<hr/>"
   ]
  },
  {
   "cell_type": "markdown",
   "id": "bee8c439",
   "metadata": {},
   "source": [
    "#### Q 24)\n",
    "A Government  company claims that an average light bulb lasts 270 days. A researcher randomly selects 18 bulbs for testing. The sampled bulbs last an average of 260 days, with a standard deviation of 90 days. If the CEO's claim were true, what is the probability that 18 randomly selected bulbs would have an average life of no more than 260 days\n"
   ]
  },
  {
   "cell_type": "code",
   "execution_count": 10,
   "id": "83e5b1f6",
   "metadata": {},
   "outputs": [
    {
     "name": "stdout",
     "output_type": "stream",
     "text": [
      "t-value = -0.4714045207910317\n",
      "p-value = 0.6783274643290164\n"
     ]
    }
   ],
   "source": [
    "from scipy.stats import t\n",
    "import numpy as np\n",
    "\n",
    "mu = 270\n",
    "x_bar = 260\n",
    "n = 18\n",
    "s = 90\n",
    "\n",
    "t_value = (x_bar-mu)/(s/np.sqrt(n))\n",
    "print(\"t-value = {}\".format(t_value))\n",
    "\n",
    "# calculating P-value\n",
    "# For type-2 hypothesis and df = (n-1)...\n",
    "\n",
    "p_value = 1- t.cdf(t_value, (n-1))\n",
    "print(\"p-value = {}\".format(p_value))"
   ]
  },
  {
   "cell_type": "code",
   "execution_count": 11,
   "id": "40da404f",
   "metadata": {},
   "outputs": [
    {
     "name": "stdout",
     "output_type": "stream",
     "text": [
      "(CI=95%, one-tailed, dof=17) t_value = 1.7396067260750672\n"
     ]
    }
   ],
   "source": [
    "# Claim of the CEO that the average life of the bulbs produced by the company is more than 270 is true.\n",
    "# Therefore the t-value corresponding to 95% confidence interval (one tailed) at 17 dof is ...\n",
    "t_value1 = t.ppf(.95,17)\n",
    "print(\"(CI=95%, one-tailed, dof=17) t_value = {}\".format(t_value1))"
   ]
  },
  {
   "cell_type": "code",
   "execution_count": 12,
   "id": "2748437c",
   "metadata": {},
   "outputs": [
    {
     "name": "stdout",
     "output_type": "stream",
     "text": [
      "t-value = 2.21101124789554\n",
      "p260 = 0.9794872424398026\n",
      "Probability that the average life of bulbs is no more than 260 days is 0.020512757560197437\n"
     ]
    }
   ],
   "source": [
    "mu = 260\n",
    "x_bar = 306.9026314\n",
    "n = 18\n",
    "s = 90\n",
    "\n",
    "t_value = (x_bar-mu)/(s/np.sqrt(n))\n",
    "print(\"t-value = {}\".format(t_value))\n",
    "\n",
    "# calculating probability that the average life of bulbs is 260 days or more ...\n",
    "\n",
    "p260 = t.cdf(t_value, (n-1))\n",
    "print(\"p260 = {}\".format(p260))\n",
    "print(\"Probability that the average life of bulbs is no more than 260 days is {}\".format(1-p260))"
   ]
  },
  {
   "cell_type": "code",
   "execution_count": null,
   "id": "3dde0d8d",
   "metadata": {},
   "outputs": [],
   "source": []
  }
 ],
 "metadata": {
  "kernelspec": {
   "display_name": "Python 3 (ipykernel)",
   "language": "python",
   "name": "python3"
  },
  "language_info": {
   "codemirror_mode": {
    "name": "ipython",
    "version": 3
   },
   "file_extension": ".py",
   "mimetype": "text/x-python",
   "name": "python",
   "nbconvert_exporter": "python",
   "pygments_lexer": "ipython3",
   "version": "3.9.13"
  }
 },
 "nbformat": 4,
 "nbformat_minor": 5
}
